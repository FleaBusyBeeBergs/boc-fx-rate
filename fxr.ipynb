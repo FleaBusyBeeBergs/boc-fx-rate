{
 "cells": [
  {
   "cell_type": "markdown",
   "id": "7663993c-9b9a-409e-83b0-44769905cb93",
   "metadata": {},
   "source": [
    "# Foreign exchange rates\n",
    "#### Using Bank of Canada's Valet API"
   ]
  },
  {
   "cell_type": "code",
   "execution_count": 1,
   "id": "68dee97a-eac9-4d95-8e0e-761b7e175a94",
   "metadata": {},
   "outputs": [],
   "source": [
    "import requests\n",
    "import pandas as pd"
   ]
  },
  {
   "cell_type": "code",
   "execution_count": 2,
   "id": "39cb9024-4c10-4f98-9fff-0e99e1b2dc0d",
   "metadata": {},
   "outputs": [],
   "source": [
    "# get exchange rate data using valet api\n",
    "url = \"https://www.bankofcanada.ca/valet/observations/group/FX_RATES_DAILY/json\"\n",
    "response = requests.get(url)\n",
    "data = response.json()"
   ]
  },
  {
   "cell_type": "code",
   "execution_count": 10,
   "id": "1ac86278-7a3b-45f7-b07a-afbd32ba6cd0",
   "metadata": {},
   "outputs": [
    {
     "name": "stdout",
     "output_type": "stream",
     "text": [
      "Foreign exchange rate: EUR to Canadian Dollars \n",
      "\n",
      "\n"
     ]
    },
    {
     "data": {
      "text/html": [
       "<div>\n",
       "<style scoped>\n",
       "    .dataframe tbody tr th:only-of-type {\n",
       "        vertical-align: middle;\n",
       "    }\n",
       "\n",
       "    .dataframe tbody tr th {\n",
       "        vertical-align: top;\n",
       "    }\n",
       "\n",
       "    .dataframe thead th {\n",
       "        text-align: right;\n",
       "    }\n",
       "</style>\n",
       "<table border=\"1\" class=\"dataframe\">\n",
       "  <thead>\n",
       "    <tr style=\"text-align: right;\">\n",
       "      <th></th>\n",
       "      <th>date</th>\n",
       "      <th>EUR to CAD</th>\n",
       "      <th>CAD to EUR</th>\n",
       "    </tr>\n",
       "  </thead>\n",
       "  <tbody>\n",
       "    <tr>\n",
       "      <th>1997</th>\n",
       "      <td>2025-01-06</td>\n",
       "      <td>1.4909</td>\n",
       "      <td>0.670736</td>\n",
       "    </tr>\n",
       "    <tr>\n",
       "      <th>1998</th>\n",
       "      <td>2025-01-07</td>\n",
       "      <td>1.4871</td>\n",
       "      <td>0.672450</td>\n",
       "    </tr>\n",
       "    <tr>\n",
       "      <th>1999</th>\n",
       "      <td>2025-01-08</td>\n",
       "      <td>1.4829</td>\n",
       "      <td>0.674354</td>\n",
       "    </tr>\n",
       "    <tr>\n",
       "      <th>2000</th>\n",
       "      <td>2025-01-09</td>\n",
       "      <td>1.4829</td>\n",
       "      <td>0.674354</td>\n",
       "    </tr>\n",
       "    <tr>\n",
       "      <th>2001</th>\n",
       "      <td>2025-01-10</td>\n",
       "      <td>1.4779</td>\n",
       "      <td>0.676636</td>\n",
       "    </tr>\n",
       "  </tbody>\n",
       "</table>\n",
       "</div>"
      ],
      "text/plain": [
       "            date  EUR to CAD  CAD to EUR\n",
       "1997  2025-01-06      1.4909    0.670736\n",
       "1998  2025-01-07      1.4871    0.672450\n",
       "1999  2025-01-08      1.4829    0.674354\n",
       "2000  2025-01-09      1.4829    0.674354\n",
       "2001  2025-01-10      1.4779    0.676636"
      ]
     },
     "execution_count": 10,
     "metadata": {},
     "output_type": "execute_result"
    }
   ],
   "source": [
    "# set currencies (e.g., 'CAD', 'EUR', 'MXN', 'PHP', 'USD')\n",
    "foreign_currency = 'EUR'  # set foreign currency \n",
    "target_currency = 'CAD'  # keep target currency as CAD\n",
    "\n",
    "# extract exchange rates\n",
    "rates = data['observations']\n",
    "\n",
    "# construct key for desired currency pair\n",
    "exchange_rate_key = f\"FX{foreign_currency}{target_currency}\"\n",
    "\n",
    "# extract rates for currency pair\n",
    "exchange_rates = [\n",
    "    {\n",
    "     \"date\": obs[\"d\"], \n",
    "     \"rate\": float(obs[exchange_rate_key][\"v\"])\n",
    "    }\n",
    "    for obs in rates if exchange_rate_key in obs\n",
    "                 ]\n",
    "df = pd.DataFrame(exchange_rates)\n",
    "df.rename(columns={'rate': f'{foreign_currency} to CAD'}, inplace=True)\n",
    "\n",
    "# add column for CAD to foreign currency\n",
    "df[\"CAD to \" + foreign_currency] = 1 / df[f'{foreign_currency} to CAD']\n",
    "\n",
    "# display results\n",
    "print('Foreign exchange rate:', foreign_currency, 'to Canadian Dollars', '\\n\\n')\n",
    "df.tail()\n"
   ]
  },
  {
   "cell_type": "code",
   "execution_count": null,
   "id": "a855816c-d776-4345-b074-904708d3e8a5",
   "metadata": {},
   "outputs": [],
   "source": []
  }
 ],
 "metadata": {
  "kernelspec": {
   "display_name": "Python 3 (ipykernel)",
   "language": "python",
   "name": "python3"
  },
  "language_info": {
   "codemirror_mode": {
    "name": "ipython",
    "version": 3
   },
   "file_extension": ".py",
   "mimetype": "text/x-python",
   "name": "python",
   "nbconvert_exporter": "python",
   "pygments_lexer": "ipython3",
   "version": "3.12.3"
  }
 },
 "nbformat": 4,
 "nbformat_minor": 5
}
