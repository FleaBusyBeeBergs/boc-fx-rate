{
 "cells": [
  {
   "cell_type": "markdown",
   "id": "7663993c-9b9a-409e-83b0-44769905cb93",
   "metadata": {},
   "source": [
    "# Foreign exchange rates"
   ]
  },
  {
   "cell_type": "code",
   "execution_count": 1,
   "id": "68dee97a-eac9-4d95-8e0e-761b7e175a94",
   "metadata": {},
   "outputs": [],
   "source": [
    "import requests\n",
    "import pandas as pd"
   ]
  },
  {
   "cell_type": "code",
   "execution_count": null,
   "id": "7d65a4b5-69d4-491b-96f7-433a461de29e",
   "metadata": {},
   "outputs": [],
   "source": []
  },
  {
   "cell_type": "code",
   "execution_count": null,
   "id": "5d9da643-2afb-405d-ac80-5dee0036a532",
   "metadata": {},
   "outputs": [],
   "source": []
  }
 ],
 "metadata": {
  "kernelspec": {
   "display_name": "Python 3 (ipykernel)",
   "language": "python",
   "name": "python3"
  },
  "language_info": {
   "codemirror_mode": {
    "name": "ipython",
    "version": 3
   },
   "file_extension": ".py",
   "mimetype": "text/x-python",
   "name": "python",
   "nbconvert_exporter": "python",
   "pygments_lexer": "ipython3",
   "version": "3.12.3"
  }
 },
 "nbformat": 4,
 "nbformat_minor": 5
}
